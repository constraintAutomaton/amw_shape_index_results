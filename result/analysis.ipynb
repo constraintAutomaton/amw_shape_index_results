{
 "cells": [
  {
   "cell_type": "code",
   "execution_count": 112,
   "id": "de4686b8-21d6-474b-b473-a5e1f2160148",
   "metadata": {},
   "outputs": [],
   "source": [
    "import json\n",
    "import matplotlib.pyplot as plt\n",
    "import numpy as np\n",
    "import statistics"
   ]
  },
  {
   "cell_type": "code",
   "execution_count": 44,
   "id": "03935739-42ad-4902-8701-a26e990e846e",
   "metadata": {},
   "outputs": [],
   "source": [
    "typeIndexResultFile = \"./data/type_index_result.json\"\n",
    "shapeIndexResultFile = \"./data/shape_index_result.json\""
   ]
  },
  {
   "cell_type": "code",
   "execution_count": 45,
   "id": "30f108e6-5b1b-46f5-92c6-0c1b1f9b88c4",
   "metadata": {},
   "outputs": [],
   "source": [
    "typeIndexResult = None\n",
    "shapeIndexResult = None"
   ]
  },
  {
   "cell_type": "code",
   "execution_count": 46,
   "id": "7bf26f5d-c893-4665-8ade-13bac43383ea",
   "metadata": {},
   "outputs": [],
   "source": [
    "with open(typeIndexResultFile, 'rb') as rf:\n",
    "    typeIndexResult = json.load(rf)\n",
    "    \n",
    "with open(shapeIndexResultFile, 'rb') as rf:\n",
    "    shapeIndexResult = json.load(rf)"
   ]
  },
  {
   "cell_type": "code",
   "execution_count": 70,
   "id": "6377d0de-4c61-4fdb-9617-c024ee3d3a10",
   "metadata": {},
   "outputs": [],
   "source": [
    "executionTimeTypeIndex = {}\n",
    "executionTimeShapeIndex = {}\n",
    "elementWithNotIdenticalResult = []"
   ]
  },
  {
   "cell_type": "code",
   "execution_count": 80,
   "id": "e883a4ef-1f97-4ef9-9ffa-448f09c5817f",
   "metadata": {
    "scrolled": true
   },
   "outputs": [],
   "source": [
    "for queryName, versionData in typeIndexResult[\"data\"].items():\n",
    "    executionTimeTypeIndex[queryName] = {}\n",
    "    for version, repetitionData in versionData.items():\n",
    "        executionTimeTypeIndex[queryName][version] = []\n",
    "        for i, repetition in enumerate(repetitionData):\n",
    "            if(type(repetition)!=str):\n",
    "                setResultTypeIndex = {e for l in repetition['results'] for e in l}\n",
    "                setResultShapeIndex = {e for l in shapeIndexResult[\"data\"][queryName][version][i]['results'] for e in l}\n",
    "                \n",
    "                executionTimeTypeIndex[queryName][version].append(repetition['execution_time'])\n",
    "                executionTimeShapeIndex[queryName][version].append(shapeIndexResult[\"data\"][queryName][version][i]['execution_time'])\n",
    "                \n",
    "                # Validate that the results are the same\n",
    "                if setResultTypeIndex!= setResultShapeIndex :\n",
    "                    elementWithNotIdenticalResult.append([queryName, version, i])\n",
    "            else:\n",
    "                executionTimeTypeIndex[queryName][version].append(-1)\n",
    "                    \n",
    "for queryName, versionData in shapeIndexResult[\"data\"].items():\n",
    "    executionTimeShapeIndex[queryName] = {}\n",
    "    for version, repetitionData in versionData.items():\n",
    "        executionTimeShapeIndex[queryName][version] = []\n",
    "        for i, repetition in enumerate(repetitionData):\n",
    "            if(type(repetition)!=str):\n",
    "                executionTimeShapeIndex[queryName][version].append(shapeIndexResult[\"data\"][queryName][version][i]['execution_time'])\n",
    "            else:\n",
    "                executionTimeShapeIndex[queryName][version].append(-1)\n",
    "               \n"
   ]
  },
  {
   "cell_type": "markdown",
   "id": "7bfbd4e3-8622-4987-b54a-1a2db3f46832",
   "metadata": {},
   "source": [
    "## Plot"
   ]
  },
  {
   "cell_type": "code",
   "execution_count": 180,
   "id": "8449a60b-ccf3-4d83-908f-04cbbc93741e",
   "metadata": {},
   "outputs": [],
   "source": [
    "indexLabel = [\"C8_v{}\".format(i) for i in range(0,5)]\n",
    "indexLabel+= [\"D1_v{}\".format(i) for i in range(0,5)]\n",
    "indexLabel+= [\"D3_v{}\".format(i) for i in range(0,5)]\n",
    "indexLabel+= [\"D4_v{}\".format(i) for i in range(0,5)]\n",
    "indexLabel+= [\"D5_v{}\".format(i) for i in range(0,5)]\n",
    "indexLabel+= [\"D6_v{}\".format(i) for i in range(0,5)]\n",
    "indexLabel+= [\"D7_v{}\".format(i) for i in range(0,5)]\n",
    "indexLabel+= [\"S1_v{}\".format(i) for i in range(0,5)]\n",
    "indexLabel+= [\"S5_v{}\".format(i) for i in range(0,5)]\n",
    "indexes = np.arange(0,len(indexLabel),1)"
   ]
  },
  {
   "cell_type": "code",
   "execution_count": 188,
   "id": "fdb70928-bd16-402a-aa07-efeb6d1f9330",
   "metadata": {},
   "outputs": [],
   "source": [
    "queryNames = [\n",
    "    \"queries/parsed/interactive-complex-8.sparql.json\",\n",
    "    \"queries/parsed/interactive-discover-1.sparql.json\",\n",
    "    \"queries/parsed/interactive-discover-3.sparql.json\",\n",
    "    \"queries/parsed/interactive-discover-4.sparql.json\",\n",
    "    \"queries/parsed/interactive-discover-5.sparql.json\",\n",
    "    #\"queries/parsed/interactive-discover-6.sparql.json\",\n",
    "    #\"queries/parsed/interactive-discover-7.sparql.json\",\n",
    "    #\"queries/parsed/interactive-short-1.sparql.json\",\n",
    "    #\"queries/parsed/interactive-short-5.sparql.json\"\n",
    "]"
   ]
  },
  {
   "cell_type": "code",
   "execution_count": 189,
   "id": "dc17f78b-4479-433c-8321-30a0bc165575",
   "metadata": {},
   "outputs": [
    {
     "name": "stderr",
     "output_type": "stream",
     "text": [
      "/tmp/ipykernel_45424/1303956422.py:5: UserWarning: No artists with labels found to put in legend.  Note that artists whose label start with an underscore are ignored when legend() is called with no argument.\n",
      "  fig.legend()\n"
     ]
    },
    {
     "ename": "ValueError",
     "evalue": "shape mismatch: objects cannot be broadcast to a single shape.  Mismatch is between arg 0 with shape (45,) and arg 1 with shape (5,).",
     "output_type": "error",
     "traceback": [
      "\u001b[0;31m---------------------------------------------------------------------------\u001b[0m",
      "\u001b[0;31mValueError\u001b[0m                                Traceback (most recent call last)",
      "Cell \u001b[0;32mIn[189], line 22\u001b[0m\n\u001b[1;32m     19\u001b[0m yerrTypeIndex \u001b[38;5;241m=\u001b[39m [[statistics\u001b[38;5;241m.\u001b[39mmean(data) \u001b[38;5;28;01mfor\u001b[39;00m data \u001b[38;5;129;01min\u001b[39;00m allDataTypeIndex], [statistics\u001b[38;5;241m.\u001b[39mmean(data) \u001b[38;5;28;01mfor\u001b[39;00m data \u001b[38;5;129;01min\u001b[39;00m allDataTypeIndex]]\n\u001b[1;32m     20\u001b[0m width \u001b[38;5;241m=\u001b[39m \u001b[38;5;241m0.25\u001b[39m \n\u001b[0;32m---> 22\u001b[0m \u001b[43max\u001b[49m\u001b[38;5;241;43m.\u001b[39;49m\u001b[43mbar\u001b[49m\u001b[43m(\u001b[49m\u001b[43mindexes\u001b[49m\u001b[43m \u001b[49m\u001b[38;5;241;43m-\u001b[39;49m\u001b[43m \u001b[49m\u001b[43mwidth\u001b[49m\u001b[38;5;241;43m/\u001b[39;49m\u001b[38;5;241;43m2\u001b[39;49m\u001b[43m,\u001b[49m\u001b[43m \u001b[49m\u001b[43mmeansShapeIndex\u001b[49m\u001b[43m,\u001b[49m\u001b[43m \u001b[49m\u001b[43mwidth\u001b[49m\u001b[43m \u001b[49m\u001b[38;5;241;43m=\u001b[39;49m\u001b[43m \u001b[49m\u001b[43mwidth\u001b[49m\u001b[43m,\u001b[49m\u001b[43m \u001b[49m\u001b[43mlabel\u001b[49m\u001b[38;5;241;43m=\u001b[39;49m\u001b[38;5;124;43m'\u001b[39;49m\u001b[38;5;124;43mShape Index\u001b[39;49m\u001b[38;5;124;43m'\u001b[39;49m\u001b[43m)\u001b[49m\n\u001b[1;32m     23\u001b[0m ax\u001b[38;5;241m.\u001b[39mbar(indexes \u001b[38;5;241m+\u001b[39m width\u001b[38;5;241m/\u001b[39m\u001b[38;5;241m2\u001b[39m, meansTypeIndex, width \u001b[38;5;241m=\u001b[39m width, label\u001b[38;5;241m=\u001b[39m\u001b[38;5;124m'\u001b[39m\u001b[38;5;124mType Index\u001b[39m\u001b[38;5;124m'\u001b[39m)\n",
      "File \u001b[0;32m~/Documents/PhD/coding/amw_shape_index_benchmark/result/venv/lib/python3.12/site-packages/matplotlib/__init__.py:1473\u001b[0m, in \u001b[0;36m_preprocess_data.<locals>.inner\u001b[0;34m(ax, data, *args, **kwargs)\u001b[0m\n\u001b[1;32m   1470\u001b[0m \u001b[38;5;129m@functools\u001b[39m\u001b[38;5;241m.\u001b[39mwraps(func)\n\u001b[1;32m   1471\u001b[0m \u001b[38;5;28;01mdef\u001b[39;00m \u001b[38;5;21minner\u001b[39m(ax, \u001b[38;5;241m*\u001b[39margs, data\u001b[38;5;241m=\u001b[39m\u001b[38;5;28;01mNone\u001b[39;00m, \u001b[38;5;241m*\u001b[39m\u001b[38;5;241m*\u001b[39mkwargs):\n\u001b[1;32m   1472\u001b[0m     \u001b[38;5;28;01mif\u001b[39;00m data \u001b[38;5;129;01mis\u001b[39;00m \u001b[38;5;28;01mNone\u001b[39;00m:\n\u001b[0;32m-> 1473\u001b[0m         \u001b[38;5;28;01mreturn\u001b[39;00m \u001b[43mfunc\u001b[49m\u001b[43m(\u001b[49m\n\u001b[1;32m   1474\u001b[0m \u001b[43m            \u001b[49m\u001b[43max\u001b[49m\u001b[43m,\u001b[49m\n\u001b[1;32m   1475\u001b[0m \u001b[43m            \u001b[49m\u001b[38;5;241;43m*\u001b[39;49m\u001b[38;5;28;43mmap\u001b[39;49m\u001b[43m(\u001b[49m\u001b[43msanitize_sequence\u001b[49m\u001b[43m,\u001b[49m\u001b[43m \u001b[49m\u001b[43margs\u001b[49m\u001b[43m)\u001b[49m\u001b[43m,\u001b[49m\n\u001b[1;32m   1476\u001b[0m \u001b[43m            \u001b[49m\u001b[38;5;241;43m*\u001b[39;49m\u001b[38;5;241;43m*\u001b[39;49m\u001b[43m{\u001b[49m\u001b[43mk\u001b[49m\u001b[43m:\u001b[49m\u001b[43m \u001b[49m\u001b[43msanitize_sequence\u001b[49m\u001b[43m(\u001b[49m\u001b[43mv\u001b[49m\u001b[43m)\u001b[49m\u001b[43m \u001b[49m\u001b[38;5;28;43;01mfor\u001b[39;49;00m\u001b[43m \u001b[49m\u001b[43mk\u001b[49m\u001b[43m,\u001b[49m\u001b[43m \u001b[49m\u001b[43mv\u001b[49m\u001b[43m \u001b[49m\u001b[38;5;129;43;01min\u001b[39;49;00m\u001b[43m \u001b[49m\u001b[43mkwargs\u001b[49m\u001b[38;5;241;43m.\u001b[39;49m\u001b[43mitems\u001b[49m\u001b[43m(\u001b[49m\u001b[43m)\u001b[49m\u001b[43m}\u001b[49m\u001b[43m)\u001b[49m\n\u001b[1;32m   1478\u001b[0m     bound \u001b[38;5;241m=\u001b[39m new_sig\u001b[38;5;241m.\u001b[39mbind(ax, \u001b[38;5;241m*\u001b[39margs, \u001b[38;5;241m*\u001b[39m\u001b[38;5;241m*\u001b[39mkwargs)\n\u001b[1;32m   1479\u001b[0m     auto_label \u001b[38;5;241m=\u001b[39m (bound\u001b[38;5;241m.\u001b[39marguments\u001b[38;5;241m.\u001b[39mget(label_namer)\n\u001b[1;32m   1480\u001b[0m                   \u001b[38;5;129;01mor\u001b[39;00m bound\u001b[38;5;241m.\u001b[39mkwargs\u001b[38;5;241m.\u001b[39mget(label_namer))\n",
      "File \u001b[0;32m~/Documents/PhD/coding/amw_shape_index_benchmark/result/venv/lib/python3.12/site-packages/matplotlib/axes/_axes.py:2520\u001b[0m, in \u001b[0;36mAxes.bar\u001b[0;34m(self, x, height, width, bottom, align, **kwargs)\u001b[0m\n\u001b[1;32m   2517\u001b[0m     \u001b[38;5;28;01mif\u001b[39;00m yerr \u001b[38;5;129;01mis\u001b[39;00m \u001b[38;5;129;01mnot\u001b[39;00m \u001b[38;5;28;01mNone\u001b[39;00m:\n\u001b[1;32m   2518\u001b[0m         yerr \u001b[38;5;241m=\u001b[39m \u001b[38;5;28mself\u001b[39m\u001b[38;5;241m.\u001b[39m_convert_dx(yerr, y0, y, \u001b[38;5;28mself\u001b[39m\u001b[38;5;241m.\u001b[39mconvert_yunits)\n\u001b[0;32m-> 2520\u001b[0m x, height, width, y, linewidth, hatch \u001b[38;5;241m=\u001b[39m \u001b[43mnp\u001b[49m\u001b[38;5;241;43m.\u001b[39;49m\u001b[43mbroadcast_arrays\u001b[49m\u001b[43m(\u001b[49m\n\u001b[1;32m   2521\u001b[0m \u001b[43m    \u001b[49m\u001b[38;5;66;43;03m# Make args iterable too.\u001b[39;49;00m\n\u001b[1;32m   2522\u001b[0m \u001b[43m    \u001b[49m\u001b[43mnp\u001b[49m\u001b[38;5;241;43m.\u001b[39;49m\u001b[43matleast_1d\u001b[49m\u001b[43m(\u001b[49m\u001b[43mx\u001b[49m\u001b[43m)\u001b[49m\u001b[43m,\u001b[49m\u001b[43m \u001b[49m\u001b[43mheight\u001b[49m\u001b[43m,\u001b[49m\u001b[43m \u001b[49m\u001b[43mwidth\u001b[49m\u001b[43m,\u001b[49m\u001b[43m \u001b[49m\u001b[43my\u001b[49m\u001b[43m,\u001b[49m\u001b[43m \u001b[49m\u001b[43mlinewidth\u001b[49m\u001b[43m,\u001b[49m\u001b[43m \u001b[49m\u001b[43mhatch\u001b[49m\u001b[43m)\u001b[49m\n\u001b[1;32m   2524\u001b[0m \u001b[38;5;66;03m# Now that units have been converted, set the tick locations.\u001b[39;00m\n\u001b[1;32m   2525\u001b[0m \u001b[38;5;28;01mif\u001b[39;00m orientation \u001b[38;5;241m==\u001b[39m \u001b[38;5;124m'\u001b[39m\u001b[38;5;124mvertical\u001b[39m\u001b[38;5;124m'\u001b[39m:\n",
      "File \u001b[0;32m~/Documents/PhD/coding/amw_shape_index_benchmark/result/venv/lib/python3.12/site-packages/numpy/lib/stride_tricks.py:540\u001b[0m, in \u001b[0;36mbroadcast_arrays\u001b[0;34m(subok, *args)\u001b[0m\n\u001b[1;32m    533\u001b[0m \u001b[38;5;66;03m# nditer is not used here to avoid the limit of 32 arrays.\u001b[39;00m\n\u001b[1;32m    534\u001b[0m \u001b[38;5;66;03m# Otherwise, something like the following one-liner would suffice:\u001b[39;00m\n\u001b[1;32m    535\u001b[0m \u001b[38;5;66;03m# return np.nditer(args, flags=['multi_index', 'zerosize_ok'],\u001b[39;00m\n\u001b[1;32m    536\u001b[0m \u001b[38;5;66;03m#                  order='C').itviews\u001b[39;00m\n\u001b[1;32m    538\u001b[0m args \u001b[38;5;241m=\u001b[39m [np\u001b[38;5;241m.\u001b[39marray(_m, copy\u001b[38;5;241m=\u001b[39m\u001b[38;5;28;01mFalse\u001b[39;00m, subok\u001b[38;5;241m=\u001b[39msubok) \u001b[38;5;28;01mfor\u001b[39;00m _m \u001b[38;5;129;01min\u001b[39;00m args]\n\u001b[0;32m--> 540\u001b[0m shape \u001b[38;5;241m=\u001b[39m \u001b[43m_broadcast_shape\u001b[49m\u001b[43m(\u001b[49m\u001b[38;5;241;43m*\u001b[39;49m\u001b[43margs\u001b[49m\u001b[43m)\u001b[49m\n\u001b[1;32m    542\u001b[0m \u001b[38;5;28;01mif\u001b[39;00m \u001b[38;5;28mall\u001b[39m(array\u001b[38;5;241m.\u001b[39mshape \u001b[38;5;241m==\u001b[39m shape \u001b[38;5;28;01mfor\u001b[39;00m array \u001b[38;5;129;01min\u001b[39;00m args):\n\u001b[1;32m    543\u001b[0m     \u001b[38;5;66;03m# Common case where nothing needs to be broadcasted.\u001b[39;00m\n\u001b[1;32m    544\u001b[0m     \u001b[38;5;28;01mreturn\u001b[39;00m args\n",
      "File \u001b[0;32m~/Documents/PhD/coding/amw_shape_index_benchmark/result/venv/lib/python3.12/site-packages/numpy/lib/stride_tricks.py:422\u001b[0m, in \u001b[0;36m_broadcast_shape\u001b[0;34m(*args)\u001b[0m\n\u001b[1;32m    417\u001b[0m \u001b[38;5;250m\u001b[39m\u001b[38;5;124;03m\"\"\"Returns the shape of the arrays that would result from broadcasting the\u001b[39;00m\n\u001b[1;32m    418\u001b[0m \u001b[38;5;124;03msupplied arrays against each other.\u001b[39;00m\n\u001b[1;32m    419\u001b[0m \u001b[38;5;124;03m\"\"\"\u001b[39;00m\n\u001b[1;32m    420\u001b[0m \u001b[38;5;66;03m# use the old-iterator because np.nditer does not handle size 0 arrays\u001b[39;00m\n\u001b[1;32m    421\u001b[0m \u001b[38;5;66;03m# consistently\u001b[39;00m\n\u001b[0;32m--> 422\u001b[0m b \u001b[38;5;241m=\u001b[39m \u001b[43mnp\u001b[49m\u001b[38;5;241;43m.\u001b[39;49m\u001b[43mbroadcast\u001b[49m\u001b[43m(\u001b[49m\u001b[38;5;241;43m*\u001b[39;49m\u001b[43margs\u001b[49m\u001b[43m[\u001b[49m\u001b[43m:\u001b[49m\u001b[38;5;241;43m32\u001b[39;49m\u001b[43m]\u001b[49m\u001b[43m)\u001b[49m\n\u001b[1;32m    423\u001b[0m \u001b[38;5;66;03m# unfortunately, it cannot handle 32 or more arguments directly\u001b[39;00m\n\u001b[1;32m    424\u001b[0m \u001b[38;5;28;01mfor\u001b[39;00m pos \u001b[38;5;129;01min\u001b[39;00m \u001b[38;5;28mrange\u001b[39m(\u001b[38;5;241m32\u001b[39m, \u001b[38;5;28mlen\u001b[39m(args), \u001b[38;5;241m31\u001b[39m):\n\u001b[1;32m    425\u001b[0m     \u001b[38;5;66;03m# ironically, np.broadcast does not properly handle np.broadcast\u001b[39;00m\n\u001b[1;32m    426\u001b[0m     \u001b[38;5;66;03m# objects (it treats them as scalars)\u001b[39;00m\n\u001b[1;32m    427\u001b[0m     \u001b[38;5;66;03m# use broadcasting to avoid allocating the full array\u001b[39;00m\n",
      "\u001b[0;31mValueError\u001b[0m: shape mismatch: objects cannot be broadcast to a single shape.  Mismatch is between arg 0 with shape (45,) and arg 1 with shape (5,)."
     ]
    },
    {
     "data": {
      "image/png": "[encoded data removed]",
      "text/plain": [
       "<Figure size 800x600 with 1 Axes>"
      ]
     },
     "metadata": {},
     "output_type": "display_data"
    }
   ],
   "source": [
    "fig, ax = plt.subplots(figsize=(8, 6))\n",
    "ax.set_yticks(np.arange(0, 1500, 200))\n",
    "ax.set_xticks(indexes)\n",
    "ax.set_xticklabels(indexLabel)\n",
    "fig.legend()\n",
    "\n",
    "for queryName in queryNames:\n",
    "\n",
    "    queryName =\"queries/parsed/interactive-discover-1.sparql.json\"\n",
    "    \n",
    "    allDataShapeIndex = [data for label,data in executionTimeShapeIndex[queryName].items()]\n",
    "    allDataTypeIndex = [data for label,data in executionTimeTypeIndex[queryName].items()]\n",
    "    \n",
    "    meansShapeIndex = [statistics.mean(data) for data in allDataShapeIndex]\n",
    "    meansTypeIndex = [statistics.mean(data) for data in allDataTypeIndex]\n",
    "    \n",
    "    \n",
    "    yerrShapeIndex = [[statistics.mean(data) for data in allDataShapeIndex], [statistics.mean(data) for data in allDataShapeIndex]]\n",
    "    yerrTypeIndex = [[statistics.mean(data) for data in allDataTypeIndex], [statistics.mean(data) for data in allDataTypeIndex]]\n",
    "    width = 0.25 \n",
    "    \n",
    "    ax.bar(indexes - width/2, meansShapeIndex, width = width, label='Shape Index')\n",
    "    ax.bar(indexes + width/2, meansTypeIndex, width = width, label='Type Index')\n"
   ]
  },
  {
   "cell_type": "code",
   "execution_count": null,
   "id": "7034bf58-c26a-4edd-8a17-19929e98eb93",
   "metadata": {},
   "outputs": [],
   "source": []
  }
 ],
 "metadata": {
  "kernelspec": {
   "display_name": "Python 3 (ipykernel)",
   "language": "python",
   "name": "python3"
  },
  "language_info": {
   "codemirror_mode": {
    "name": "ipython",
    "version": 3
   },
   "file_extension": ".py",
   "mimetype": "text/x-python",
   "name": "python",
   "nbconvert_exporter": "python",
   "pygments_lexer": "ipython3",
   "version": "3.12.3"
  }
 },
 "nbformat": 4,
 "nbformat_minor": 5
}
